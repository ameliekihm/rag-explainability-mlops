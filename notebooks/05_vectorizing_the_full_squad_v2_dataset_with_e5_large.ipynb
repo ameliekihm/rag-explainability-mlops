{
 "cells": [
  {
   "cell_type": "code",
   "execution_count": null,
   "id": "97071215",
   "metadata": {},
   "outputs": [],
   "source": [
    "# Install required packages\n",
    "!pip install datasets torch sentence-transformers\n",
    "\n",
    "# 1. Mount Google Drive\n",
    "from google.colab import drive\n",
    "drive.mount('/content/drive')\n",
    "\n",
    "# 2. Load SQuAD v2 dataset\n",
    "from datasets import load_dataset\n",
    "dataset = load_dataset(\"squad_v2\")\n",
    "\n",
    "# Extract contexts and questions\n",
    "contexts = dataset[\"train\"][\"context\"]\n",
    "questions = dataset[\"train\"][\"question\"]\n",
    "\n",
    "# 3. Load embedding model (e5-large)\n",
    "from sentence_transformers import SentenceTransformer\n",
    "model = SentenceTransformer(\"intfloat/e5-large\")\n",
    "\n",
    "# 4. Vectorize contexts and questions\n",
    "context_embeddings = model.encode(\n",
    "    contexts, \n",
    "    convert_to_numpy=True, \n",
    "    batch_size=64, \n",
    "    show_progress_bar=True\n",
    ")\n",
    "\n",
    "question_embeddings = model.encode(\n",
    "    questions, \n",
    "    convert_to_numpy=True, \n",
    "    batch_size=64, \n",
    "    show_progress_bar=True\n",
    ")\n",
    "\n",
    "# 5. Save embeddings to Google Drive (inside embeddings folder)\n",
    "import numpy as np\n",
    "save_path = \"/content/drive/MyDrive/RAG Research/embeddings\"\n",
    "np.save(f\"{save_path}/context_embeddings.npy\", context_embeddings)\n",
    "np.save(f\"{save_path}/question_embeddings.npy\", question_embeddings)\n",
    "\n",
    "print(\"✅ Embeddings created and saved in Google Drive -> RAG Research/embeddings/\")"
   ]
  }
 ],
 "metadata": {
  "language_info": {
   "name": "python"
  }
 },
 "nbformat": 4,
 "nbformat_minor": 5
}
