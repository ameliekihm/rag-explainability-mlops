{
 "cells": [
  {
   "cell_type": "code",
   "execution_count": null,
   "id": "d808d278",
   "metadata": {},
   "outputs": [],
   "source": [
    "!pip install transformers datasets accelerate -q\n",
    "\n",
    "from transformers import AutoModelForSeq2SeqLM, AutoTokenizer\n",
    "from datasets import load_dataset\n",
    "from tqdm import tqdm\n",
    "import torch\n",
    "\n",
    "def evaluate_model(model_name, n=100):\n",
    "    print(f\"\\n[INFO] Evaluating model: {model_name}\")\n",
    "    tokenizer = AutoTokenizer.from_pretrained(model_name)\n",
    "    model = AutoModelForSeq2SeqLM.from_pretrained(model_name).to(\"cuda\" if torch.cuda.is_available() else \"cpu\")\n",
    "\n",
    "    dataset = load_dataset(\"squad_v2\", split=f\"validation[:{n}]\")\n",
    "    correct = 0\n",
    "\n",
    "    for q, c, a in tqdm(zip(dataset[\"question\"], dataset[\"context\"], dataset[\"answers\"]), total=n):\n",
    "        prompt = f\"Question: {q}\\nContext: {c}\\nAnswer:\"\n",
    "        inputs = tokenizer(prompt, return_tensors=\"pt\", truncation=True).to(model.device)\n",
    "        outputs = model.generate(**inputs, max_new_tokens=100)\n",
    "        pred = tokenizer.decode(outputs[0], skip_special_tokens=True).lower()\n",
    "        if any(ans.lower() in pred for ans in a[\"text\"]):\n",
    "            correct += 1\n",
    "\n",
    "    acc = correct / n\n",
    "    print(f\"[RESULT] {model_name} Accuracy = {acc:.3f}\")\n",
    "    return acc\n",
    "\n",
    "models = [\n",
    "    \"google/flan-t5-small\",\n",
    "    \"google/flan-t5-base\",\n",
    "    \"facebook/bart-base\"\n",
    "]\n",
    "\n",
    "results = {m: evaluate_model(m) for m in models}\n",
    "print(\"\\n✅ Final Comparison:\")\n",
    "for m, score in results.items():\n",
    "    print(f\"{m}: {score:.3f}\")\n"
   ]
  }
 ],
 "metadata": {
  "language_info": {
   "name": "python"
  }
 },
 "nbformat": 4,
 "nbformat_minor": 5
}
