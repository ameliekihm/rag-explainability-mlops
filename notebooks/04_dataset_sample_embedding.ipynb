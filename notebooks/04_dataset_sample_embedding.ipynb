{
 "cells": [
  {
   "cell_type": "code",
   "execution_count": null,
   "id": "a0b46eb9",
   "metadata": {},
   "outputs": [],
   "source": [
    "!pip install -q datasets sentence-transformers\n",
    "\n",
    "from datasets import load_dataset\n",
    "from src.embeddings.embedder import Embedder\n",
    "import numpy as np\n",
    "\n",
    "# 1. Load SQuAD v2 train split\n",
    "squad = load_dataset(\"squad_v2\", split=\"train\")\n",
    "\n",
    "# 2. Take a small sample (200 examples)\n",
    "sample = squad.shuffle(seed=42).select(range(200))\n",
    "queries = [q[\"question\"] for q in sample]\n",
    "contexts = [q[\"context\"] for q in sample]\n",
    "\n",
    "# 3. Initialize Embedder (using e5-large as best model)\n",
    "embedder = Embedder(\"intfloat/e5-large\")\n",
    "\n",
    "# 4. Encode queries and contexts\n",
    "query_embeddings = embedder.encode(queries)\n",
    "context_embeddings = embedder.encode(contexts)\n",
    "\n",
    "print(\"Query embeddings shape:\", query_embeddings.shape)\n",
    "print(\"Context embeddings shape:\", context_embeddings.shape)\n",
    "\n",
    "# 5. Save vectors to temporary files (for FAISS prep in week 2)\n",
    "np.save(\"query_embeddings_sample.npy\", query_embeddings)\n",
    "np.save(\"context_embeddings_sample.npy\", context_embeddings)\n",
    "\n",
    "print(\"✅ Sample embeddings saved successfully.\")\n"
   ]
  }
 ],
 "metadata": {
  "language_info": {
   "name": "python"
  }
 },
 "nbformat": 4,
 "nbformat_minor": 5
}
