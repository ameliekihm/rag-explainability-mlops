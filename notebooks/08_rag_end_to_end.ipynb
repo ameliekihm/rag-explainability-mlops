{
 "cells": [
  {
   "cell_type": "markdown",
   "id": "c5138d32",
   "metadata": {},
   "source": [
    "## Run in Google Colab notebook: 08_rag_end_to_end.ipynb (Environment: CPU)\n"
   ]
  },
  {
   "cell_type": "code",
   "execution_count": null,
   "id": "b5bf3d6b",
   "metadata": {},
   "outputs": [],
   "source": [
    "from google.colab import drive\n",
    "drive.mount('/content/drive')\n",
    "import os\n",
    "project_root = \"/content/drive/MyDrive/RAG Research\"\n",
    "os.chdir(project_root)\n",
    "print(os.getcwd())\n",
    "\n",
    "!pip install faiss-cpu transformers datasets sentence-transformers accelerate -q"
   ]
  },
  {
   "cell_type": "code",
   "execution_count": null,
   "id": "ffb5b6e2",
   "metadata": {},
   "outputs": [],
   "source": [
    "import sys\n",
    "import json\n",
    "sys.path.append(\"/content/drive/MyDrive/RAG Research/src\")\n",
    "\n",
    "# 1.Import Retriever and Generator components\n",
    "from src.retrieval.retriever import Retriever\n",
    "from src.generation.generator import Generator\n",
    "\n",
    "# 2. Initialize Retriever\n",
    "retriever = Retriever(\n",
    "    model_name=\"intfloat/e5-large\",\n",
    "    index_path=\"/content/drive/MyDrive/RAG Research/data/processed/hnsw_index.faiss\",\n",
    "    k=20\n",
    ")\n",
    "\n",
    "# 3. Initialize Generator\n",
    "generator = Generator(model_name=\"google/flan-t5-base\")\n",
    "\n",
    "# 4. Run retrieval + generation\n",
    "# Run a sample query to test full pipeline\n",
    "query = \"What is the capital of France?\"\n",
    "indices, distances = retriever.search(query)\n",
    "\n",
    "# 5. Load contexts.json for retrieved data\n",
    "with open(\"/content/drive/MyDrive/RAG Research/data/processed/contexts.json\", \"r\") as f:\n",
    "    contexts = json.load(f)\n",
    "\n",
    "# 6. Combine top-k contexts\n",
    "top_contexts = [contexts[i] for i in indices]\n",
    "combined_context = \" \".join(top_contexts[:3])\n",
    "\n",
    "# 7.Generate final answer\n",
    "answer = generator.generate_answer(query, combined_context)\n",
    "\n",
    "print(\"\\n============================\")\n",
    "print(f\"Q: {query}\")\n",
    "print(f\"A: {answer}\")\n",
    "print(\"============================\")"
   ]
  }
 ],
 "metadata": {
  "kernelspec": {
   "display_name": "rag-explain",
   "language": "python",
   "name": "python3"
  },
  "language_info": {
   "codemirror_mode": {
    "name": "ipython",
    "version": 3
   },
   "file_extension": ".py",
   "mimetype": "text/x-python",
   "name": "python",
   "nbconvert_exporter": "python",
   "pygments_lexer": "ipython3",
   "version": "3.10.18"
  }
 },
 "nbformat": 4,
 "nbformat_minor": 5
}
